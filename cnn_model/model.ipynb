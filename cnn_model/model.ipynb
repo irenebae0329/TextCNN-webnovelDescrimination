{
 "cells": [
  {
   "cell_type": "code",
   "execution_count": 9,
   "metadata": {},
   "outputs": [],
   "source": [
    "import torch \n",
    "import torch.nn as nn\n",
    "import torch.nn.functional as F\n",
    "from gensim.models import word2vec"
   ]
  },
  {
   "cell_type": "code",
   "execution_count": 10,
   "metadata": {},
   "outputs": [
    {
     "data": {
      "text/plain": [
       "(100, 17174)"
      ]
     },
     "execution_count": 10,
     "metadata": {},
     "output_type": "execute_result"
    }
   ],
   "source": [
    "model=word2vec.Word2Vec.load(\"/Users/lwd011204/书籍爬虫/book_spyder/resources/word2vec.model\")\n",
    "model.vector_size,len(model.wv)"
   ]
  },
  {
   "cell_type": "code",
   "execution_count": 11,
   "metadata": {},
   "outputs": [],
   "source": [
    "class config:\n",
    "    num_class=15\n",
    "    dropout_rate=0.1\n",
    "    max_text_length=46\n",
    "    vocab_size=17146\n",
    "    vec_dim=100\n",
    "    kernel_size=[2,3,4]\n",
    "    feature_size=100#一维卷积卷积核个数\n",
    "    weight=torch.tensor(model.wv.vectors)\n",
    "    vocab_size=len(model.wv)\n"
   ]
  },
  {
   "cell_type": "code",
   "execution_count": 12,
   "metadata": {},
   "outputs": [
    {
     "data": {
      "text/plain": [
       "tensor([[-3.4236e-03,  7.6554e-04,  6.5606e-03,  ..., -1.0835e-02,\n",
       "          7.6421e-05,  9.6728e-03],\n",
       "        [-9.4926e-03,  6.1837e-03,  5.6921e-03,  ..., -4.5948e-03,\n",
       "         -9.0215e-03,  5.7719e-03],\n",
       "        [ 2.9097e-04,  4.6717e-03, -6.3387e-03,  ..., -7.9938e-04,\n",
       "          8.8260e-03, -6.2926e-03],\n",
       "        ...,\n",
       "        [-8.7676e-03,  4.4933e-03, -3.3572e-03,  ...,  3.6418e-03,\n",
       "         -1.1014e-03, -5.5919e-04],\n",
       "        [-5.8528e-03,  2.6498e-04,  8.7569e-03,  ...,  5.2154e-03,\n",
       "         -7.4856e-03, -3.7171e-03],\n",
       "        [-4.8476e-03,  8.8799e-03,  1.4623e-03,  ..., -8.6098e-03,\n",
       "         -5.6974e-04, -5.4949e-03]])"
      ]
     },
     "execution_count": 12,
     "metadata": {},
     "output_type": "execute_result"
    }
   ],
   "source": [
    "config.weight"
   ]
  },
  {
   "cell_type": "code",
   "execution_count": 13,
   "metadata": {},
   "outputs": [],
   "source": [
    "class TextCNN(nn.Module):\n",
    "    def __init__(self,config) -> None:\n",
    "        super(TextCNN,self).__init__()\n",
    "        self.dropout_rate=config.dropout_rate\n",
    "        self.num_class=config.num_class\n",
    "        self.config=config\n",
    "        self.embedding=nn.Embedding(config.vocab_size,config.vec_dim)\n",
    "        self.convs=nn.ModuleList([nn.Sequential(nn.Conv1d(in_channels=config.vec_dim,out_channels=config.feature_size,kernel_size=h),\n",
    "        nn.ReLU(),nn.MaxPool1d(kernel_size=config.max_text_length-h+1)) \n",
    "        for h in config.kernel_size])\n",
    "        self.fc=nn.Linear(config.feature_size*len(config.kernel_size),out_features=config.num_class)\n",
    "        self.init_weight()\n",
    "    def init_weight(self,config):\n",
    "        self.embedding.weight.data.copy(config.weight)\n",
    "    def forward(self,x):\n",
    "        embed_x=self.embedding(x)\n",
    "        embed_x=embed_x.permute(0,2,1)\n",
    "        out=[conv(embed_x) for conv in self.convs]\n",
    "        out=torch.cat(out,dim=1)\n",
    "        out=out.view(-1,out.size(1))\n",
    "        out=F.dropout(out,p=self.dropout_rate)\n",
    "        out=self.fc(out)\n",
    "        return out"
   ]
  },
  {
   "cell_type": "code",
   "execution_count": 14,
   "metadata": {},
   "outputs": [
    {
     "ename": "AttributeError",
     "evalue": "type object 'config' has no attribute 'kernel_sizes'",
     "output_type": "error",
     "traceback": [
      "\u001b[0;31m---------------------------------------------------------------------------\u001b[0m",
      "\u001b[0;31mAttributeError\u001b[0m                            Traceback (most recent call last)",
      "\u001b[1;32m/Users/lwd011204/书籍爬虫/book_spyder/cnn_model/model.ipynb Cell 6\u001b[0m in \u001b[0;36m<cell line: 1>\u001b[0;34m()\u001b[0m\n\u001b[0;32m----> <a href='vscode-notebook-cell:/Users/lwd011204/%E4%B9%A6%E7%B1%8D%E7%88%AC%E8%99%AB/book_spyder/cnn_model/model.ipynb#W5sZmlsZQ%3D%3D?line=0'>1</a>\u001b[0m net\u001b[39m=\u001b[39mTextCNN(config)\n",
      "\u001b[1;32m/Users/lwd011204/书籍爬虫/book_spyder/cnn_model/model.ipynb Cell 6\u001b[0m in \u001b[0;36mTextCNN.__init__\u001b[0;34m(self, config)\u001b[0m\n\u001b[1;32m      <a href='vscode-notebook-cell:/Users/lwd011204/%E4%B9%A6%E7%B1%8D%E7%88%AC%E8%99%AB/book_spyder/cnn_model/model.ipynb#W5sZmlsZQ%3D%3D?line=6'>7</a>\u001b[0m \u001b[39mself\u001b[39m\u001b[39m.\u001b[39membedding\u001b[39m=\u001b[39mnn\u001b[39m.\u001b[39mEmbedding(config\u001b[39m.\u001b[39mvocab_size,config\u001b[39m.\u001b[39mvec_dim)\n\u001b[1;32m      <a href='vscode-notebook-cell:/Users/lwd011204/%E4%B9%A6%E7%B1%8D%E7%88%AC%E8%99%AB/book_spyder/cnn_model/model.ipynb#W5sZmlsZQ%3D%3D?line=7'>8</a>\u001b[0m \u001b[39mself\u001b[39m\u001b[39m.\u001b[39mconvs\u001b[39m=\u001b[39mnn\u001b[39m.\u001b[39mModuleList([nn\u001b[39m.\u001b[39mSequential(nn\u001b[39m.\u001b[39mConv1d(in_channels\u001b[39m=\u001b[39mconfig\u001b[39m.\u001b[39mvec_dim,out_channels\u001b[39m=\u001b[39mconfig\u001b[39m.\u001b[39mfeature_size,kernel_size\u001b[39m=\u001b[39mh),\n\u001b[1;32m      <a href='vscode-notebook-cell:/Users/lwd011204/%E4%B9%A6%E7%B1%8D%E7%88%AC%E8%99%AB/book_spyder/cnn_model/model.ipynb#W5sZmlsZQ%3D%3D?line=8'>9</a>\u001b[0m nn\u001b[39m.\u001b[39mReLU(),nn\u001b[39m.\u001b[39mMaxPool1d(kernel_size\u001b[39m=\u001b[39mconfig\u001b[39m.\u001b[39mmax_text_length\u001b[39m-\u001b[39mh\u001b[39m+\u001b[39m\u001b[39m1\u001b[39m)) \n\u001b[1;32m     <a href='vscode-notebook-cell:/Users/lwd011204/%E4%B9%A6%E7%B1%8D%E7%88%AC%E8%99%AB/book_spyder/cnn_model/model.ipynb#W5sZmlsZQ%3D%3D?line=9'>10</a>\u001b[0m \u001b[39mfor\u001b[39;00m h \u001b[39min\u001b[39;00m config\u001b[39m.\u001b[39mkernel_size])\n\u001b[0;32m---> <a href='vscode-notebook-cell:/Users/lwd011204/%E4%B9%A6%E7%B1%8D%E7%88%AC%E8%99%AB/book_spyder/cnn_model/model.ipynb#W5sZmlsZQ%3D%3D?line=10'>11</a>\u001b[0m \u001b[39mself\u001b[39m\u001b[39m.\u001b[39mfc\u001b[39m=\u001b[39mnn\u001b[39m.\u001b[39mLinear(config\u001b[39m.\u001b[39mfeature_size\u001b[39m*\u001b[39m\u001b[39mlen\u001b[39m(config\u001b[39m.\u001b[39;49mkernel_sizes),out_features\u001b[39m=\u001b[39mconfig\u001b[39m.\u001b[39mnum_class)\n\u001b[1;32m     <a href='vscode-notebook-cell:/Users/lwd011204/%E4%B9%A6%E7%B1%8D%E7%88%AC%E8%99%AB/book_spyder/cnn_model/model.ipynb#W5sZmlsZQ%3D%3D?line=11'>12</a>\u001b[0m \u001b[39mself\u001b[39m\u001b[39m.\u001b[39minit_weight()\n",
      "\u001b[0;31mAttributeError\u001b[0m: type object 'config' has no attribute 'kernel_sizes'"
     ]
    }
   ],
   "source": [
    "net=TextCNN(config)"
   ]
  }
 ],
 "metadata": {
  "kernelspec": {
   "display_name": "Python 3.8.13 ('base')",
   "language": "python",
   "name": "python3"
  },
  "language_info": {
   "codemirror_mode": {
    "name": "ipython",
    "version": 3
   },
   "file_extension": ".py",
   "mimetype": "text/x-python",
   "name": "python",
   "nbconvert_exporter": "python",
   "pygments_lexer": "ipython3",
   "version": "3.8.13"
  },
  "orig_nbformat": 4,
  "vscode": {
   "interpreter": {
    "hash": "e88e5e479780ec90377fd90967a026f978cb52a87a972adad0457da348cfeb40"
   }
  }
 },
 "nbformat": 4,
 "nbformat_minor": 2
}
